{
 "cells": [
  {
   "cell_type": "code",
   "execution_count": null,
   "metadata": {},
   "outputs": [
    {
     "name": "stdout",
     "output_type": "stream",
     "text": [
      "data: [\"[{'id': 0, 'distance': 0.9999999403953552, 'entity': {'text': 'Artificial intelligence was founded as an academic discipline in 1956.', 'subject': 'history'}}, {'id': 2, 'distance': 0.3660986125469208, 'entity': {'text': 'Born in Maida Vale, London, Turing was raised in southern England.', 'subject': 'history'}}]\"]\n",
      "data: [\"{'id': 0, 'text': 'Artificial intelligence was founded as an academic discipline in 1956.', 'subject': 'history'}\", \"{'id': 1, 'text': 'Alan Turing was the first person to conduct substantial research in AI.', 'subject': 'history'}\", \"{'id': 2, 'text': 'Born in Maida Vale, London, Turing was raised in southern England.', 'subject': 'history'}\"]\n"
     ]
    }
   ],
   "source": [
    "# pip install pymilvus\n",
    "\n",
    "# 导入必要的库\n",
    "from pymilvus import MilvusClient\n",
    "import numpy as np\n",
    "\n",
    "# ===================== 连接到 Milvus 数据库 =====================\n",
    "# lite 版本指定本地文件路径\n",
    "client = MilvusClient(\"./milvus_demo.db\")\n",
    "\n",
    "# 其他版本连接方式（使用 HTTP 协议连接到远程服务器）\n",
    "# client = MilvusClient(uri=\"http://localhost:19530\", token=\"root:Milvus\")\n",
    "\n",
    "\n",
    "# ===================== 创建集合 =====================\n",
    "# 如果集合已存在则删除\n",
    "if client.has_collection(collection_name=\"demo_collection\"):\n",
    "    client.drop_collection(collection_name=\"demo_collection\")\n",
    "    \n",
    "# 创建一个新集合，指定向量维度为 10\n",
    "client.create_collection(\n",
    "    collection_name=\"demo_collection\",\n",
    "    dimension=10  \n",
    ")\n",
    "\n",
    "# ===================== 准备数据 =====================\n",
    "# 示例文本数据\n",
    "docs = [\n",
    "    \"Artificial intelligence was founded as an academic discipline in 1956.\",\n",
    "    \"Alan Turing was the first person to conduct substantial research in AI.\",\n",
    "    \"Born in Maida Vale, London, Turing was raised in southern England.\",\n",
    "]\n",
    "\n",
    "# 生成随机向量作为文本的向量表示\n",
    "vectors = [[ np.random.uniform(-1, 1) for _ in range(10) ] for _ in range(len(docs)) ]\n",
    "\n",
    "# 整合数据：将 ID、向量、文本和主题字段组合成记录\n",
    "data = [ {\"id\": i, \"vector\": vectors[i], \"text\": docs[i], \"subject\": \"history\"} for i in range(len(vectors)) ]\n",
    "\n",
    "# ===================== 插入数据 =====================\n",
    "res = client.insert(\n",
    "    collection_name=\"demo_collection\",\n",
    "    data=data\n",
    ")\n",
    "\n",
    "# ===================== 向量相似度搜索 =====================\n",
    "# 使用第一个向量作为查询向量，查找最相似的 2 条记录\n",
    "res = client.search(\n",
    "    collection_name=\"demo_collection\",\n",
    "    data=[vectors[0]],  # 查询向量\n",
    "    filter=\"subject == 'history'\",  # 过滤条件\n",
    "    limit=2,  # 返回结果数量限制\n",
    "    output_fields=[\"text\", \"subject\"],  # 返回的字段\n",
    ")\n",
    "print(\"搜索结果:\")\n",
    "print(res)\n",
    "\n",
    "# ===================== 基于属性查询 =====================\n",
    "# 查询所有 subject 为 'history' 的记录\n",
    "res = client.query(\n",
    "    collection_name=\"demo_collection\",\n",
    "    filter=\"subject == 'history'\",\n",
    "    output_fields=[\"text\", \"subject\"],\n",
    ")\n",
    "print(\"\\n查询结果:\")\n",
    "print(res)\n",
    "\n",
    "# ===================== 删除数据（已注释） =====================\n",
    "# res = client.delete(\n",
    "#     collection_name=\"demo_collection\",\n",
    "#     filter=\"subject == 'history'\",\n",
    "# )\n",
    "# print(res)\n"
   ]
  },
  {
   "cell_type": "code",
   "execution_count": null,
   "metadata": {},
   "outputs": [
    {
     "name": "stdout",
     "output_type": "stream",
     "text": [
      "data: []\n"
     ]
    }
   ],
   "source": [
    "# 再次查询集合中的所有历史主题记录\n",
    "res = client.query(\n",
    "    collection_name=\"demo_collection\",\n",
    "    filter=\"subject == 'history'\",\n",
    "    output_fields=[\"text\", \"subject\"],\n",
    ")\n",
    "print(\"查询结果:\")\n",
    "print(res)"
   ]
  },
  {
   "cell_type": "code",
   "execution_count": null,
   "metadata": {},
   "outputs": [
    {
     "data": {
      "text/plain": [
       "{'row_count': 3}"
      ]
     },
     "execution_count": 15,
     "metadata": {},
     "output_type": "execute_result"
    }
   ],
   "source": [
    "# 获取集合的统计信息，包括实体数量等\n",
    "client.get_collection_stats(\"demo_collection\")"
   ]
  },
  {
   "cell_type": "code",
   "execution_count": null,
   "metadata": {},
   "outputs": [
    {
     "data": {
      "text/plain": [
       "True"
      ]
     },
     "execution_count": 16,
     "metadata": {},
     "output_type": "execute_result"
    }
   ],
   "source": [
    "# 检查集合是否存在\n",
    "client.has_collection(\"demo_collection\")"
   ]
  },
  {
   "cell_type": "code",
   "execution_count": null,
   "metadata": {},
   "outputs": [
    {
     "data": {
      "text/plain": [
       "{'collection_name': 'demo_collection',\n",
       " 'auto_id': False,\n",
       " 'num_shards': 0,\n",
       " 'description': '',\n",
       " 'fields': [{'field_id': 100,\n",
       "   'name': 'id',\n",
       "   'description': '',\n",
       "   'type': <DataType.INT64: 5>,\n",
       "   'params': {},\n",
       "   'is_primary': True},\n",
       "  {'field_id': 101,\n",
       "   'name': 'vector',\n",
       "   'description': '',\n",
       "   'type': <DataType.FLOAT_VECTOR: 101>,\n",
       "   'params': {'dim': 10}}],\n",
       " 'functions': [],\n",
       " 'aliases': [],\n",
       " 'collection_id': 0,\n",
       " 'consistency_level': 0,\n",
       " 'properties': {},\n",
       " 'num_partitions': 0,\n",
       " 'enable_dynamic_field': True}"
      ]
     },
     "execution_count": 17,
     "metadata": {},
     "output_type": "execute_result"
    }
   ],
   "source": [
    "# 获取集合的详细信息，包括字段设置、索引类型等\n",
    "client.describe_collection(\"demo_collection\")"
   ]
  },
  {
   "cell_type": "code",
   "execution_count": null,
   "metadata": {},
   "outputs": [
    {
     "data": {
      "text/plain": [
       "['demo_collection']"
      ]
     },
     "execution_count": 18,
     "metadata": {},
     "output_type": "execute_result"
    }
   ],
   "source": [
    "# 列出当前存在的所有集合\n",
    "client.list_collections()"
   ]
  },
  {
   "cell_type": "code",
   "execution_count": null,
   "metadata": {},
   "outputs": [],
   "source": [
    "# 这是一个空白单元格，可以用于后续扩展"
   ]
  }
 ],
 "metadata": {
  "kernelspec": {
   "display_name": "base",
   "language": "python",
   "name": "python3"
  },
  "language_info": {
   "codemirror_mode": {
    "name": "ipython",
    "version": 3
   },
   "file_extension": ".py",
   "mimetype": "text/x-python",
   "name": "python",
   "nbconvert_exporter": "python",
   "pygments_lexer": "ipython3",
   "version": "3.12.3"
  }
 },
 "nbformat": 4,
 "nbformat_minor": 2
}
